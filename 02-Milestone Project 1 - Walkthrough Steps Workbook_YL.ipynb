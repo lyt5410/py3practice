{
 "cells": [
  {
   "cell_type": "markdown",
   "metadata": {},
   "source": [
    "# Milestone Project 1: Walkthrough Steps Workbook\n",
    "\n",
    "Below is a set of steps for you to follow to try to create the Tic Tac Toe Milestone Project game!"
   ]
  },
  {
   "cell_type": "markdown",
   "metadata": {},
   "source": [
    "#### Some suggested tools before you get started:\n",
    "To take input from a user:\n",
    "\n",
    "    player1 = input(\"Please pick a marker 'X' or 'O'\")\n",
    "    \n",
    "Note that input() takes in a string. If you need an integer value, use\n",
    "\n",
    "    position = int(input('Please enter a number'))\n",
    "    \n",
    "<br>To clear the screen between moves:\n",
    "\n",
    "    from IPython.display import clear_output\n",
    "    clear_output()\n",
    "    \n",
    "Note that clear_output() will only work in jupyter. To clear the screen in other IDEs, consider:\n",
    "\n",
    "    print('\\n'*100)\n",
    "    \n",
    "This scrolls the previous board up out of view. Now on to the program!"
   ]
  },
  {
   "cell_type": "markdown",
   "metadata": {},
   "source": [
    "**Step 1: Write a function that can print out a board. Set up your board as a list, where each index 1-9 corresponds with a number on a number pad, so you get a 3 by 3 board representation.**"
   ]
  },
  {
   "cell_type": "code",
   "execution_count": null,
   "metadata": {},
   "outputs": [],
   "source": [
    "from IPython.display import clear_output\n",
    "\n",
    "def display_board(board):\n",
    "    #board = ['#','#','#','#','#','#','#','#','#','#']   #placeholders for now\n",
    "    clear_output()\n",
    "    print(board[7]+'|'+board[8]+'|'+board[9])\n",
    "    print(board[4]+'|'+board[5]+'|'+board[6])\n",
    "    print(board[1]+'|'+board[2]+'|'+board[3])"
   ]
  },
  {
   "cell_type": "markdown",
   "metadata": {},
   "source": [
    "**TEST Step 1:** run your function on a test version of the board list, and make adjustments as necessary"
   ]
  },
  {
   "cell_type": "code",
   "execution_count": null,
   "metadata": {},
   "outputs": [],
   "source": [
    "test_board = ['#','X','O','X','O','X','O','X','O','X']\n",
    "display_board(test_board)"
   ]
  },
  {
   "cell_type": "code",
   "execution_count": null,
   "metadata": {},
   "outputs": [],
   "source": [
    "clear_output()"
   ]
  },
  {
   "cell_type": "code",
   "execution_count": null,
   "metadata": {},
   "outputs": [],
   "source": [
    "test_board = ['#','#','#','#','#','#','#','#','#','#']\n",
    "display_board(test_board)"
   ]
  },
  {
   "cell_type": "code",
   "execution_count": null,
   "metadata": {},
   "outputs": [],
   "source": [
    "clear_output()"
   ]
  },
  {
   "cell_type": "markdown",
   "metadata": {},
   "source": [
    "**Step 2: Write a function that can take in a player input and assign their marker as 'X' or 'O'. Think about using *while* loops to continually ask until you get a correct answer.**"
   ]
  },
  {
   "cell_type": "code",
   "execution_count": null,
   "metadata": {},
   "outputs": [],
   "source": [
    "def player_input():\n",
    "    \n",
    "    player1=''\n",
    "    player2=''\n",
    "    \n",
    "    while player1 != 'X'or'O':\n",
    "        player1 = input(\"Please pick a marker 'X' or 'O'.\")\n",
    "        if player1 == 'O':\n",
    "            player2 = 'X'\n",
    "            break\n",
    "        if player1 == 'X':\n",
    "            player2 = 'O'\n",
    "            break\n",
    "    \n",
    "        \n",
    "    print(f'player1 will use: {player1}')\n",
    "    print(f'player2 will use: {player2}')\n",
    "    return(player1,player2)"
   ]
  },
  {
   "cell_type": "markdown",
   "metadata": {},
   "source": [
    "**TEST Step 2:** run the function to make sure it returns the desired output"
   ]
  },
  {
   "cell_type": "code",
   "execution_count": null,
   "metadata": {},
   "outputs": [],
   "source": [
    "player_input()"
   ]
  },
  {
   "cell_type": "markdown",
   "metadata": {},
   "source": [
    "**Step 3: Write a function that takes in the board list object, a marker ('X' or 'O'), and a desired position (number 1-9) and assigns it to the board.**"
   ]
  },
  {
   "cell_type": "code",
   "execution_count": null,
   "metadata": {},
   "outputs": [],
   "source": [
    "def place_marker(board, marker, position):\n",
    "    board[position]=marker"
   ]
  },
  {
   "cell_type": "markdown",
   "metadata": {},
   "source": [
    "**TEST Step 3:** run the place marker function using test parameters and display the modified board"
   ]
  },
  {
   "cell_type": "code",
   "execution_count": null,
   "metadata": {},
   "outputs": [],
   "source": [
    "place_marker(test_board,'X',5)\n",
    "display_board(test_board)"
   ]
  },
  {
   "cell_type": "markdown",
   "metadata": {},
   "source": [
    "**Step 4: Write a function that takes in a board and a mark (X or O) and then checks to see if that mark has won. **"
   ]
  },
  {
   "cell_type": "code",
   "execution_count": null,
   "metadata": {},
   "outputs": [],
   "source": [
    "def win_check(board, mark):\n",
    "    return board[1:4]==[f'{mark}',f'{mark}',f'{mark}'] or \\\n",
    "    board[4:7]==[f'{mark}',f'{mark}',f'{mark}'] or \\\n",
    "    board[7:10]==[f'{mark}',f'{mark}',f'{mark}'] or \\\n",
    "    [board[1],board[4],board[7]]==[f'{mark}',f'{mark}',f'{mark}'] or \\\n",
    "    [board[2],board[5],board[8]]==[f'{mark}',f'{mark}',f'{mark}'] or \\\n",
    "    [board[3],board[6],board[9]]==[f'{mark}',f'{mark}',f'{mark}'] or \\\n",
    "    [board[3],board[5],board[7]]==[f'{mark}',f'{mark}',f'{mark}'] or \\\n",
    "    [board[1],board[5],board[9]]==[f'{mark}',f'{mark}',f'{mark}']\n",
    "    \n",
    "    pass"
   ]
  },
  {
   "cell_type": "code",
   "execution_count": null,
   "metadata": {},
   "outputs": [],
   "source": [
    "#win scenarios: 123, 456, 789, 147, 258, 369, 357, 159\n",
    "test_board = ['#', 'X', '#', 'O', 'X', '#', 'O', 'x', 'y', 'O']\n",
    "display_board(test_board)"
   ]
  },
  {
   "cell_type": "code",
   "execution_count": null,
   "metadata": {},
   "outputs": [],
   "source": [
    "marker = 'X'"
   ]
  },
  {
   "cell_type": "code",
   "execution_count": null,
   "metadata": {},
   "outputs": [],
   "source": [
    "test_board[1:4]==[f'{marker}',f'{marker}',f'{marker}']"
   ]
  },
  {
   "cell_type": "code",
   "execution_count": null,
   "metadata": {},
   "outputs": [],
   "source": [
    "test_board[1:4]==[f'{marker}',f'{marker}',f'{marker}'] or \\\n",
    "test_board[4:7]==[f'{marker}',f'{marker}',f'{marker}'] or \\\n",
    "test_board[7:10]==[f'{marker}',f'{marker}',f'{marker}'] or \\\n",
    "[test_board[1],test_board[4],test_board[7]]==[f'{marker}',f'{marker}',f'{marker}'] or \\\n",
    "[test_board[2],test_board[5],test_board[8]]==[f'{marker}',f'{marker}',f'{marker}'] or \\\n",
    "[test_board[3],test_board[6],test_board[9]]==[f'{marker}',f'{marker}',f'{marker}'] or \\\n",
    "[test_board[3],test_board[5],test_board[7]]==[f'{marker}',f'{marker}',f'{marker}'] or \\\n",
    "[test_board[1],test_board[5],test_board[9]]==[f'{marker}',f'{marker}',f'{marker}']"
   ]
  },
  {
   "cell_type": "code",
   "execution_count": null,
   "metadata": {},
   "outputs": [],
   "source": [
    "test_board"
   ]
  },
  {
   "cell_type": "markdown",
   "metadata": {},
   "source": [
    "**TEST Step 4:** run the win_check function against our test_board - it should return True"
   ]
  },
  {
   "cell_type": "code",
   "execution_count": null,
   "metadata": {},
   "outputs": [],
   "source": [
    "win_check(test_board,'X')"
   ]
  },
  {
   "cell_type": "markdown",
   "metadata": {},
   "source": [
    "**Step 5: Write a function that uses the random module to randomly decide which player goes first. You may want to lookup random.randint() Return a string of which player went first.**"
   ]
  },
  {
   "cell_type": "code",
   "execution_count": null,
   "metadata": {},
   "outputs": [],
   "source": [
    "def choose_first():\n",
    "    import random\n",
    "    number = random.randint(0,1)\n",
    "    if number == 0:\n",
    "        print('Player1 will go first')\n",
    "    elif number == 1:\n",
    "        print('Player2 will go first')\n",
    "    return number"
   ]
  },
  {
   "cell_type": "code",
   "execution_count": null,
   "metadata": {},
   "outputs": [],
   "source": [
    "choose_first()"
   ]
  },
  {
   "cell_type": "markdown",
   "metadata": {},
   "source": [
    "**Step 6: Write a function that returns a boolean indicating whether a space on the board is freely available.**"
   ]
  },
  {
   "cell_type": "code",
   "execution_count": null,
   "metadata": {},
   "outputs": [],
   "source": [
    "def space_check(board, position):\n",
    "    if board[position]=='#':\n",
    "        return True\n",
    "    else:\n",
    "        return False"
   ]
  },
  {
   "cell_type": "code",
   "execution_count": null,
   "metadata": {},
   "outputs": [],
   "source": [
    "space_check(test_board, 5)"
   ]
  },
  {
   "cell_type": "code",
   "execution_count": null,
   "metadata": {},
   "outputs": [],
   "source": [
    "test_board\n",
    "display_board(test_board)"
   ]
  },
  {
   "cell_type": "code",
   "execution_count": null,
   "metadata": {},
   "outputs": [],
   "source": [
    "for i in range(1, len(test_board)):\n",
    "    indicator = []\n",
    "    if test_board[i]=='#':\n",
    "        indicator.append(True)\n",
    "    else:\n",
    "        indicator.append(False)"
   ]
  },
  {
   "cell_type": "code",
   "execution_count": null,
   "metadata": {},
   "outputs": [],
   "source": [
    "if '#' in test_board[1:10]:\n",
    "    x = False\n",
    "else:\n",
    "    x = True\n",
    "x"
   ]
  },
  {
   "cell_type": "code",
   "execution_count": null,
   "metadata": {},
   "outputs": [],
   "source": [
    "test_board"
   ]
  },
  {
   "cell_type": "markdown",
   "metadata": {},
   "source": [
    "**Step 7: Write a function that checks if the board is full and returns a boolean value. True if full, False otherwise.**"
   ]
  },
  {
   "cell_type": "code",
   "execution_count": null,
   "metadata": {},
   "outputs": [],
   "source": [
    "def full_board_check(board):\n",
    "    if '#' in test_board[1:10]:\n",
    "        x = False\n",
    "    else:\n",
    "        x = True\n",
    "    return x"
   ]
  },
  {
   "cell_type": "code",
   "execution_count": null,
   "metadata": {},
   "outputs": [],
   "source": [
    "test_board = ['#', 'X', '#', 'O', 'X', 'O', 'O', 'x', 'y', 'O']\n",
    "display_board(test_board)"
   ]
  },
  {
   "cell_type": "code",
   "execution_count": null,
   "metadata": {},
   "outputs": [],
   "source": [
    "test_board[1:10]"
   ]
  },
  {
   "cell_type": "code",
   "execution_count": null,
   "metadata": {},
   "outputs": [],
   "source": [
    "full_board_check(test_board)"
   ]
  },
  {
   "cell_type": "markdown",
   "metadata": {},
   "source": [
    "**Step 8: Write a function that asks for a player's next position (as a number 1-9) and then uses the function from step 6 to check if it's a free position. If it is, then return the position for later use.**"
   ]
  },
  {
   "cell_type": "code",
   "execution_count": null,
   "metadata": {},
   "outputs": [],
   "source": [
    "#\"board\" is the input, in here, is test_board\n",
    "def player_choice(board):\n",
    "    space_bool = False\n",
    "    while space_bool != True:\n",
    "        test_loc = int(input('type in desired next location'))\n",
    "        space_bool = space_check(board, test_loc)\n",
    "        if space_bool == True:\n",
    "            choice_loc = test_loc\n",
    "            print(f\"location {test_loc} available. The next chosen location is {choice_loc}\")\n",
    "            break\n",
    "        else:\n",
    "            print(f\"location {test_loc} is already occupied. Please choose a different location\")\n",
    "            continue\n",
    "#input function converts whatever input into a string, need to convert to int\n",
    "   \n",
    "\n",
    "#     if space_bool\n",
    "#         choice_loc = test_loc\n",
    "#         print(f\"location available. The next desired location is {choice_loc}.\")\n",
    "#     else:\n",
    "#         test_loc = int(input('location unavailable, type in another location'))\n",
    "#         space_bool = space_check(board, test_loc)\n",
    "    \n",
    "#     return choice_loc\n",
    "    \n",
    "#     while space_check(board_test_loc) != True:\n",
    "#         test_loc = input('type in desired next location')\n",
    "#         if space_check(board_test_loc) == True:\n",
    "#             choice_loc = test_loc\n",
    "#             print(f\"the next desired location is {choice_loc}\")\n",
    "#             break      \n",
    "        \n",
    "    pass"
   ]
  },
  {
   "cell_type": "code",
   "execution_count": null,
   "metadata": {},
   "outputs": [],
   "source": [
    "test_loc = input('type in desired next location')"
   ]
  },
  {
   "cell_type": "code",
   "execution_count": null,
   "metadata": {},
   "outputs": [],
   "source": [
    "test_loc"
   ]
  },
  {
   "cell_type": "code",
   "execution_count": null,
   "metadata": {},
   "outputs": [],
   "source": [
    "int(test_loc)"
   ]
  },
  {
   "cell_type": "code",
   "execution_count": null,
   "metadata": {},
   "outputs": [],
   "source": [
    "display_board(test_board)"
   ]
  },
  {
   "cell_type": "code",
   "execution_count": null,
   "metadata": {},
   "outputs": [],
   "source": [
    "#ok run\n",
    "player_choice(test_board)"
   ]
  },
  {
   "cell_type": "markdown",
   "metadata": {},
   "source": [
    "**Step 9: Write a function that asks the player if they want to play again and returns a boolean True if they do want to play again.**"
   ]
  },
  {
   "cell_type": "code",
   "execution_count": null,
   "metadata": {},
   "outputs": [],
   "source": [
    "def replay():\n",
    "    replay_indicator = \"\"\n",
    "    while replay_indicator != 'Y'or'N':\n",
    "        replay_indicator = input(\"replay? reply Y for Yes and N for No\")\n",
    "        if replay_indicator == 'Y':\n",
    "            replay_bool = True\n",
    "            print('play again, yes...')\n",
    "            break\n",
    "        elif replay_indicator == 'N':\n",
    "            replay_bool = False\n",
    "            print('Farewell.')\n",
    "            break\n",
    "    \n",
    "    pass"
   ]
  },
  {
   "cell_type": "code",
   "execution_count": null,
   "metadata": {},
   "outputs": [],
   "source": [
    "x = input(\"replay? reply Y for Yes and N for No\")"
   ]
  },
  {
   "cell_type": "code",
   "execution_count": null,
   "metadata": {},
   "outputs": [],
   "source": [
    "replay()"
   ]
  },
  {
   "cell_type": "markdown",
   "metadata": {
    "collapsed": true
   },
   "source": [
    "**Step 10: Here comes the hard part! Use while loops and the functions you've made to run the game!**"
   ]
  },
  {
   "cell_type": "code",
   "execution_count": 12,
   "metadata": {},
   "outputs": [],
   "source": [
    "#load all functions\n",
    "from IPython.display import clear_output\n",
    "\n",
    "def display_board(board):\n",
    "    #board = ['#','#','#','#','#','#','#','#','#','#']   #placeholders for now\n",
    "    clear_output()\n",
    "    print(board[7]+'|'+board[8]+'|'+board[9])\n",
    "    print(board[4]+'|'+board[5]+'|'+board[6])\n",
    "    print(board[1]+'|'+board[2]+'|'+board[3])\n",
    "    \n",
    "def player_input():\n",
    "    \n",
    "    player1=''\n",
    "    player2=''\n",
    "    \n",
    "    while player1 != 'X'or'O':\n",
    "        player1 = input(\"Please pick a marker 'X' or 'O'.\")\n",
    "        if player1 == 'O':\n",
    "            player2 = 'X'\n",
    "            break\n",
    "        if player1 == 'X':\n",
    "            player2 = 'O'\n",
    "            break\n",
    "    \n",
    "        \n",
    "    print(f'player1 will use: {player1}')\n",
    "    print(f'player2 will use: {player2}')\n",
    "    return(player1,player2)\n",
    "\n",
    "\n",
    "def place_marker(board, marker, position):\n",
    "    board[position]=marker\n",
    "    \n",
    "\n",
    "def win_check(board, mark):\n",
    "    return board[1:4]==[f'{mark}',f'{mark}',f'{mark}'] or \\\n",
    "    board[4:7]==[f'{mark}',f'{mark}',f'{mark}'] or \\\n",
    "    board[7:10]==[f'{mark}',f'{mark}',f'{mark}'] or \\\n",
    "    [board[1],board[4],board[7]]==[f'{mark}',f'{mark}',f'{mark}'] or \\\n",
    "    [board[2],board[5],board[8]]==[f'{mark}',f'{mark}',f'{mark}'] or \\\n",
    "    [board[3],board[6],board[9]]==[f'{mark}',f'{mark}',f'{mark}'] or \\\n",
    "    [board[3],board[5],board[7]]==[f'{mark}',f'{mark}',f'{mark}'] or \\\n",
    "    [board[1],board[5],board[9]]==[f'{mark}',f'{mark}',f'{mark}']\n",
    "\n",
    "def choose_first():\n",
    "    import random\n",
    "    number = random.randint(0,1)\n",
    "    if number == 0:\n",
    "        print('Player1 will go first')\n",
    "    elif number == 1:\n",
    "        print('Player2 will go first')\n",
    "    return number\n",
    "\n",
    "\n",
    "def space_check(board, position):\n",
    "    if board[position]=='#':\n",
    "        return True\n",
    "    else:\n",
    "        return False\n",
    "\n",
    "\n",
    "def full_board_check(board):\n",
    "    if '#' in board[1:10]:\n",
    "        x = False\n",
    "    else:\n",
    "        x = True\n",
    "    return x\n",
    "\n",
    "#\"board\" is the input, in here, is test_board\n",
    "def player_choice(board):\n",
    "    space_bool = False\n",
    "    while space_bool != True:\n",
    "        test_loc = int(input('type in desired next location'))\n",
    "        space_bool = space_check(board, test_loc)\n",
    "        if space_bool == True:\n",
    "            choice_loc = test_loc\n",
    "            print(f\"location {test_loc} available. The next chosen location is {choice_loc}\")\n",
    "            break\n",
    "        else:\n",
    "            print(f\"location {test_loc} is already occupied. Please choose a different location\")\n",
    "            continue\n",
    "#input function converts whatever input into a string, need to convert to int\n",
    "\n",
    "def replay():\n",
    "    replay_indicator = \"\"\n",
    "    while replay_indicator != 'Y'or'N':\n",
    "        replay_indicator = input(\"replay? reply Y for Yes and N for No\")\n",
    "        if replay_indicator == 'Y':\n",
    "            replay_bool = True\n",
    "            print('play again, yes...')\n",
    "            break\n",
    "        elif replay_indicator == 'N':\n",
    "            replay_bool = False\n",
    "            print('Farewell.')\n",
    "            break"
   ]
  },
  {
   "cell_type": "code",
   "execution_count": 15,
   "metadata": {},
   "outputs": [
    {
     "name": "stdout",
     "output_type": "stream",
     "text": [
      "O|X|O\n",
      "X|X|O\n",
      "X|O|X\n",
      "it's a tie\n"
     ]
    }
   ],
   "source": [
    "#My solution\n",
    "# game setup\n",
    "print('Welcome to Tic Tac Toe!')\n",
    "test_board = ['#','#','#','#','#','#','#','#','#','#']\n",
    "display_board(test_board)\n",
    "game_status = 'yes'\n",
    "full_board = False\n",
    "#while game_status != 'end':\n",
    "    \n",
    "    \n",
    "#two players define marker\n",
    "markers = player_input()\n",
    "    \n",
    "#randomly decide play order\n",
    "first_player = choose_first()\n",
    "if first_player == 1:\n",
    "    second_player = 0\n",
    "else:\n",
    "    second_player = 1\n",
    "\n",
    "while game_status != 'end':  \n",
    "    #Player1 turn\n",
    "    position = int(input('first player, please enter a position'))\n",
    "    marker = markers[first_player]\n",
    "    \n",
    "    if space_check(test_board, position)==False:\n",
    "        position = int(input('position already occupied, please enter another position'))\n",
    "    else:\n",
    "        pass\n",
    "        \n",
    "    while space_check(test_board, position):\n",
    "        place_marker(test_board, marker, position)\n",
    "        pass\n",
    "        if space_check(test_board, position)==False:\n",
    "            #print('position is already occupied, please enter another position')\n",
    "            pass\n",
    "    \n",
    "    display_board(test_board)\n",
    "    #win check for player1\n",
    "    if full_board_check(test_board):\n",
    "        full_board = True\n",
    "    else:\n",
    "        pass\n",
    "    first_player_win = win_check(test_board, markers[first_player])\n",
    "    if first_player_win:\n",
    "        print('first player has won')\n",
    "        break\n",
    "    elif full_board and not first_player_win and not second_player_win:\n",
    "        print(\"it's a tie\")\n",
    "        break\n",
    "    else:\n",
    "        pass\n",
    "\n",
    "    #Player2 turn\n",
    "    position = int(input('second player, please enter a position'))\n",
    "    marker = markers[second_player]\n",
    "    \n",
    "    if space_check(test_board, position)==False:\n",
    "        position = int(input('position already occupied, please enter another position'))\n",
    "    else:\n",
    "        pass\n",
    "    \n",
    "    while space_check(test_board, position):\n",
    "        place_marker(test_board, marker, position)\n",
    "        pass\n",
    "        if space_check(test_board, position)==False:\n",
    "            #print('position is already occupied, please enter another position')\n",
    "            pass\n",
    "    \n",
    "    display_board(test_board)\n",
    "    #win check for player2\n",
    "    if full_board_check(test_board):\n",
    "        full_board = True\n",
    "    else:\n",
    "        pass\n",
    "    second_player_win = win_check(test_board, markers[second_player])\n",
    "    if second_player_win:\n",
    "        print('second player has won')\n",
    "        break\n",
    "    elif full_board and not first_player_win and not second_player_win:\n",
    "        print(\"it's a tie\")\n",
    "        break\n",
    "    else:\n",
    "        pass\n",
    "\n",
    "    \n",
    "\n",
    "\n",
    "\n",
    "    #if not replay():\n",
    "        #break"
   ]
  },
  {
   "cell_type": "code",
   "execution_count": 7,
   "metadata": {},
   "outputs": [],
   "source": [
    "x = True"
   ]
  },
  {
   "cell_type": "code",
   "execution_count": 9,
   "metadata": {},
   "outputs": [
    {
     "data": {
      "text/plain": [
       "False"
      ]
     },
     "execution_count": 9,
     "metadata": {},
     "output_type": "execute_result"
    }
   ],
   "source": [
    "not x"
   ]
  },
  {
   "cell_type": "code",
   "execution_count": null,
   "metadata": {},
   "outputs": [],
   "source": [
    "first_player = choose_first()\n",
    "if first_player == 1:\n",
    "    second_player = 0\n",
    "else:\n",
    "    second_player = 1\n",
    "first_player"
   ]
  },
  {
   "cell_type": "code",
   "execution_count": null,
   "metadata": {},
   "outputs": [],
   "source": [
    "second_player"
   ]
  },
  {
   "cell_type": "code",
   "execution_count": null,
   "metadata": {},
   "outputs": [],
   "source": [
    "player1"
   ]
  },
  {
   "cell_type": "markdown",
   "metadata": {
    "collapsed": true
   },
   "source": [
    "## Good Job!"
   ]
  }
 ],
 "metadata": {
  "kernelspec": {
   "display_name": "Python 3",
   "language": "python",
   "name": "python3"
  },
  "language_info": {
   "codemirror_mode": {
    "name": "ipython",
    "version": 3
   },
   "file_extension": ".py",
   "mimetype": "text/x-python",
   "name": "python",
   "nbconvert_exporter": "python",
   "pygments_lexer": "ipython3",
   "version": "3.7.4"
  }
 },
 "nbformat": 4,
 "nbformat_minor": 1
}
